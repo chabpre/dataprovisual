{
  "nbformat": 4,
  "nbformat_minor": 0,
  "metadata": {
    "colab": {
      "name": "Exam3.ipynb",
      "provenance": [],
      "authorship_tag": "ABX9TyMDSRMNzwqQN6lhCgSlbEwq",
      "include_colab_link": true
    },
    "kernelspec": {
      "name": "python3",
      "display_name": "Python 3"
    },
    "language_info": {
      "name": "python"
    }
  },
  "cells": [
    {
      "cell_type": "markdown",
      "metadata": {
        "id": "view-in-github",
        "colab_type": "text"
      },
      "source": [
        "<a href=\"https://colab.research.google.com/github/chabpre/dataprovisual/blob/main/Exam3.ipynb\" target=\"_parent\"><img src=\"https://colab.research.google.com/assets/colab-badge.svg\" alt=\"Open In Colab\"/></a>"
      ]
    },
    {
      "cell_type": "markdown",
      "source": [
        "#Exam 3\n",
        "\n",
        "\n",
        "References used:\n",
        "\n",
        "https://github.com/nurfnick/Data_Viz/\n",
        "\n",
        "https://github.com/chabpre/dataprovisual\n",
        "\n",
        "https://www.delftstack.com/howto/seaborn/size-of-seaborn-plot/\n",
        "\n",
        "https://seaborn.pydata.org/\n",
        "\n",
        "I attest that the resources above were the only ones utilized in completing the exam and the work included is my own and no one else from the course\n",
        "\n"
      ],
      "metadata": {
        "id": "y6fcyRW1SSci"
      }
    },
    {
      "cell_type": "markdown",
      "source": [
        "A: Store the data as a pandas dataframe. Find your favorite ‘club’ or ‘nationality’ (that is present in thedata!), include a picture that represents them and include it in your notebook. (If no favorite, just pick one!)\n"
      ],
      "metadata": {
        "id": "hzLCs1a8Smfp"
      }
    },
    {
      "cell_type": "code",
      "execution_count": 1,
      "metadata": {
        "id": "KUyA3WZlkeLZ",
        "colab": {
          "base_uri": "https://localhost:8080/",
          "height": 424
        },
        "outputId": "ccf3e229-af38-4c6f-b024-4e32044bf7dc"
      },
      "outputs": [
        {
          "output_type": "execute_result",
          "data": {
            "text/plain": [
              "     Unnamed: 0  Rank                player           club  age   Apps  Mins  \\\n",
              "0             0     1          Hakim Ziyech           Ajax   25     34  3043   \n",
              "1             2     2   Alireza Jahanbakhsh     AZ Alkmaar   24     33  2840   \n",
              "2             4     3        Hirving Lozano  PSV Eindhoven   22     29  2350   \n",
              "3             6    11          Lasse Schone           Ajax   32  27(3)  2350   \n",
              "4            10    25        Santiago Arias  PSV Eindhoven   26     30  2664   \n",
              "..          ...   ...                   ...            ...  ...    ...   ...   \n",
              "598        1150   200    Giancarlo Gonzalez        Bologna   30     22  1858   \n",
              "599        1152   217  Stephan Lichtsteiner       Juventus   34  21(6)  1715   \n",
              "600        1154   235        Dawid Kownacki      Sampdoria   21  6(16)   811   \n",
              "601        1156   265     Emil Hallfredsson        Udinese   33  8(11)   761   \n",
              "602        1158   269         Marcus Rohden        Crotone   27  20(6)  1637   \n",
              "\n",
              "     Goals  Assists  Yel  Red  SpG    PS AerialsWon  MotM  Rating  nationality  \n",
              "0        9       15    4    0  4.9  75.4        0.2     9    8.21      Morocco  \n",
              "1       21       12    3    0  4.3  73.4        0.7    14    8.20         Iran  \n",
              "2       17        8    4    2  3.4  75.3        0.6     8    7.90       Mexico  \n",
              "3       10        3    6    0  1.9  87.0        1.9     2    7.45      Denmark  \n",
              "4        3        6    5    0  1.5  82.3          1     2    7.25     Colombia  \n",
              "..     ...      ...  ...  ...  ...   ...        ...   ...     ...          ...  \n",
              "598      0        0    4    2    -  80.6        2.4     0    6.63   Costa Rica  \n",
              "599      0        2    6    0  0.1  82.2        0.9     0    6.59  Switzerland  \n",
              "600      5        1    0    0    1  75.4        1.4     0    6.51       Poland  \n",
              "601      0        0    5    0  0.1  88.5        0.6     0    6.39      Iceland  \n",
              "602      2        0    2    0  0.8  67.6        0.8     0    6.35       Sweden  \n",
              "\n",
              "[603 rows x 17 columns]"
            ],
            "text/html": [
              "\n",
              "  <div id=\"df-da178d91-4c91-4983-b0bf-eafc5f4c2125\">\n",
              "    <div class=\"colab-df-container\">\n",
              "      <div>\n",
              "<style scoped>\n",
              "    .dataframe tbody tr th:only-of-type {\n",
              "        vertical-align: middle;\n",
              "    }\n",
              "\n",
              "    .dataframe tbody tr th {\n",
              "        vertical-align: top;\n",
              "    }\n",
              "\n",
              "    .dataframe thead th {\n",
              "        text-align: right;\n",
              "    }\n",
              "</style>\n",
              "<table border=\"1\" class=\"dataframe\">\n",
              "  <thead>\n",
              "    <tr style=\"text-align: right;\">\n",
              "      <th></th>\n",
              "      <th>Unnamed: 0</th>\n",
              "      <th>Rank</th>\n",
              "      <th>player</th>\n",
              "      <th>club</th>\n",
              "      <th>age</th>\n",
              "      <th>Apps</th>\n",
              "      <th>Mins</th>\n",
              "      <th>Goals</th>\n",
              "      <th>Assists</th>\n",
              "      <th>Yel</th>\n",
              "      <th>Red</th>\n",
              "      <th>SpG</th>\n",
              "      <th>PS</th>\n",
              "      <th>AerialsWon</th>\n",
              "      <th>MotM</th>\n",
              "      <th>Rating</th>\n",
              "      <th>nationality</th>\n",
              "    </tr>\n",
              "  </thead>\n",
              "  <tbody>\n",
              "    <tr>\n",
              "      <th>0</th>\n",
              "      <td>0</td>\n",
              "      <td>1</td>\n",
              "      <td>Hakim Ziyech</td>\n",
              "      <td>Ajax</td>\n",
              "      <td>25</td>\n",
              "      <td>34</td>\n",
              "      <td>3043</td>\n",
              "      <td>9</td>\n",
              "      <td>15</td>\n",
              "      <td>4</td>\n",
              "      <td>0</td>\n",
              "      <td>4.9</td>\n",
              "      <td>75.4</td>\n",
              "      <td>0.2</td>\n",
              "      <td>9</td>\n",
              "      <td>8.21</td>\n",
              "      <td>Morocco</td>\n",
              "    </tr>\n",
              "    <tr>\n",
              "      <th>1</th>\n",
              "      <td>2</td>\n",
              "      <td>2</td>\n",
              "      <td>Alireza Jahanbakhsh</td>\n",
              "      <td>AZ Alkmaar</td>\n",
              "      <td>24</td>\n",
              "      <td>33</td>\n",
              "      <td>2840</td>\n",
              "      <td>21</td>\n",
              "      <td>12</td>\n",
              "      <td>3</td>\n",
              "      <td>0</td>\n",
              "      <td>4.3</td>\n",
              "      <td>73.4</td>\n",
              "      <td>0.7</td>\n",
              "      <td>14</td>\n",
              "      <td>8.20</td>\n",
              "      <td>Iran</td>\n",
              "    </tr>\n",
              "    <tr>\n",
              "      <th>2</th>\n",
              "      <td>4</td>\n",
              "      <td>3</td>\n",
              "      <td>Hirving Lozano</td>\n",
              "      <td>PSV Eindhoven</td>\n",
              "      <td>22</td>\n",
              "      <td>29</td>\n",
              "      <td>2350</td>\n",
              "      <td>17</td>\n",
              "      <td>8</td>\n",
              "      <td>4</td>\n",
              "      <td>2</td>\n",
              "      <td>3.4</td>\n",
              "      <td>75.3</td>\n",
              "      <td>0.6</td>\n",
              "      <td>8</td>\n",
              "      <td>7.90</td>\n",
              "      <td>Mexico</td>\n",
              "    </tr>\n",
              "    <tr>\n",
              "      <th>3</th>\n",
              "      <td>6</td>\n",
              "      <td>11</td>\n",
              "      <td>Lasse Schone</td>\n",
              "      <td>Ajax</td>\n",
              "      <td>32</td>\n",
              "      <td>27(3)</td>\n",
              "      <td>2350</td>\n",
              "      <td>10</td>\n",
              "      <td>3</td>\n",
              "      <td>6</td>\n",
              "      <td>0</td>\n",
              "      <td>1.9</td>\n",
              "      <td>87.0</td>\n",
              "      <td>1.9</td>\n",
              "      <td>2</td>\n",
              "      <td>7.45</td>\n",
              "      <td>Denmark</td>\n",
              "    </tr>\n",
              "    <tr>\n",
              "      <th>4</th>\n",
              "      <td>10</td>\n",
              "      <td>25</td>\n",
              "      <td>Santiago Arias</td>\n",
              "      <td>PSV Eindhoven</td>\n",
              "      <td>26</td>\n",
              "      <td>30</td>\n",
              "      <td>2664</td>\n",
              "      <td>3</td>\n",
              "      <td>6</td>\n",
              "      <td>5</td>\n",
              "      <td>0</td>\n",
              "      <td>1.5</td>\n",
              "      <td>82.3</td>\n",
              "      <td>1</td>\n",
              "      <td>2</td>\n",
              "      <td>7.25</td>\n",
              "      <td>Colombia</td>\n",
              "    </tr>\n",
              "    <tr>\n",
              "      <th>...</th>\n",
              "      <td>...</td>\n",
              "      <td>...</td>\n",
              "      <td>...</td>\n",
              "      <td>...</td>\n",
              "      <td>...</td>\n",
              "      <td>...</td>\n",
              "      <td>...</td>\n",
              "      <td>...</td>\n",
              "      <td>...</td>\n",
              "      <td>...</td>\n",
              "      <td>...</td>\n",
              "      <td>...</td>\n",
              "      <td>...</td>\n",
              "      <td>...</td>\n",
              "      <td>...</td>\n",
              "      <td>...</td>\n",
              "      <td>...</td>\n",
              "    </tr>\n",
              "    <tr>\n",
              "      <th>598</th>\n",
              "      <td>1150</td>\n",
              "      <td>200</td>\n",
              "      <td>Giancarlo Gonzalez</td>\n",
              "      <td>Bologna</td>\n",
              "      <td>30</td>\n",
              "      <td>22</td>\n",
              "      <td>1858</td>\n",
              "      <td>0</td>\n",
              "      <td>0</td>\n",
              "      <td>4</td>\n",
              "      <td>2</td>\n",
              "      <td>-</td>\n",
              "      <td>80.6</td>\n",
              "      <td>2.4</td>\n",
              "      <td>0</td>\n",
              "      <td>6.63</td>\n",
              "      <td>Costa Rica</td>\n",
              "    </tr>\n",
              "    <tr>\n",
              "      <th>599</th>\n",
              "      <td>1152</td>\n",
              "      <td>217</td>\n",
              "      <td>Stephan Lichtsteiner</td>\n",
              "      <td>Juventus</td>\n",
              "      <td>34</td>\n",
              "      <td>21(6)</td>\n",
              "      <td>1715</td>\n",
              "      <td>0</td>\n",
              "      <td>2</td>\n",
              "      <td>6</td>\n",
              "      <td>0</td>\n",
              "      <td>0.1</td>\n",
              "      <td>82.2</td>\n",
              "      <td>0.9</td>\n",
              "      <td>0</td>\n",
              "      <td>6.59</td>\n",
              "      <td>Switzerland</td>\n",
              "    </tr>\n",
              "    <tr>\n",
              "      <th>600</th>\n",
              "      <td>1154</td>\n",
              "      <td>235</td>\n",
              "      <td>Dawid Kownacki</td>\n",
              "      <td>Sampdoria</td>\n",
              "      <td>21</td>\n",
              "      <td>6(16)</td>\n",
              "      <td>811</td>\n",
              "      <td>5</td>\n",
              "      <td>1</td>\n",
              "      <td>0</td>\n",
              "      <td>0</td>\n",
              "      <td>1</td>\n",
              "      <td>75.4</td>\n",
              "      <td>1.4</td>\n",
              "      <td>0</td>\n",
              "      <td>6.51</td>\n",
              "      <td>Poland</td>\n",
              "    </tr>\n",
              "    <tr>\n",
              "      <th>601</th>\n",
              "      <td>1156</td>\n",
              "      <td>265</td>\n",
              "      <td>Emil Hallfredsson</td>\n",
              "      <td>Udinese</td>\n",
              "      <td>33</td>\n",
              "      <td>8(11)</td>\n",
              "      <td>761</td>\n",
              "      <td>0</td>\n",
              "      <td>0</td>\n",
              "      <td>5</td>\n",
              "      <td>0</td>\n",
              "      <td>0.1</td>\n",
              "      <td>88.5</td>\n",
              "      <td>0.6</td>\n",
              "      <td>0</td>\n",
              "      <td>6.39</td>\n",
              "      <td>Iceland</td>\n",
              "    </tr>\n",
              "    <tr>\n",
              "      <th>602</th>\n",
              "      <td>1158</td>\n",
              "      <td>269</td>\n",
              "      <td>Marcus Rohden</td>\n",
              "      <td>Crotone</td>\n",
              "      <td>27</td>\n",
              "      <td>20(6)</td>\n",
              "      <td>1637</td>\n",
              "      <td>2</td>\n",
              "      <td>0</td>\n",
              "      <td>2</td>\n",
              "      <td>0</td>\n",
              "      <td>0.8</td>\n",
              "      <td>67.6</td>\n",
              "      <td>0.8</td>\n",
              "      <td>0</td>\n",
              "      <td>6.35</td>\n",
              "      <td>Sweden</td>\n",
              "    </tr>\n",
              "  </tbody>\n",
              "</table>\n",
              "<p>603 rows × 17 columns</p>\n",
              "</div>\n",
              "      <button class=\"colab-df-convert\" onclick=\"convertToInteractive('df-da178d91-4c91-4983-b0bf-eafc5f4c2125')\"\n",
              "              title=\"Convert this dataframe to an interactive table.\"\n",
              "              style=\"display:none;\">\n",
              "        \n",
              "  <svg xmlns=\"http://www.w3.org/2000/svg\" height=\"24px\"viewBox=\"0 0 24 24\"\n",
              "       width=\"24px\">\n",
              "    <path d=\"M0 0h24v24H0V0z\" fill=\"none\"/>\n",
              "    <path d=\"M18.56 5.44l.94 2.06.94-2.06 2.06-.94-2.06-.94-.94-2.06-.94 2.06-2.06.94zm-11 1L8.5 8.5l.94-2.06 2.06-.94-2.06-.94L8.5 2.5l-.94 2.06-2.06.94zm10 10l.94 2.06.94-2.06 2.06-.94-2.06-.94-.94-2.06-.94 2.06-2.06.94z\"/><path d=\"M17.41 7.96l-1.37-1.37c-.4-.4-.92-.59-1.43-.59-.52 0-1.04.2-1.43.59L10.3 9.45l-7.72 7.72c-.78.78-.78 2.05 0 2.83L4 21.41c.39.39.9.59 1.41.59.51 0 1.02-.2 1.41-.59l7.78-7.78 2.81-2.81c.8-.78.8-2.07 0-2.86zM5.41 20L4 18.59l7.72-7.72 1.47 1.35L5.41 20z\"/>\n",
              "  </svg>\n",
              "      </button>\n",
              "      \n",
              "  <style>\n",
              "    .colab-df-container {\n",
              "      display:flex;\n",
              "      flex-wrap:wrap;\n",
              "      gap: 12px;\n",
              "    }\n",
              "\n",
              "    .colab-df-convert {\n",
              "      background-color: #E8F0FE;\n",
              "      border: none;\n",
              "      border-radius: 50%;\n",
              "      cursor: pointer;\n",
              "      display: none;\n",
              "      fill: #1967D2;\n",
              "      height: 32px;\n",
              "      padding: 0 0 0 0;\n",
              "      width: 32px;\n",
              "    }\n",
              "\n",
              "    .colab-df-convert:hover {\n",
              "      background-color: #E2EBFA;\n",
              "      box-shadow: 0px 1px 2px rgba(60, 64, 67, 0.3), 0px 1px 3px 1px rgba(60, 64, 67, 0.15);\n",
              "      fill: #174EA6;\n",
              "    }\n",
              "\n",
              "    [theme=dark] .colab-df-convert {\n",
              "      background-color: #3B4455;\n",
              "      fill: #D2E3FC;\n",
              "    }\n",
              "\n",
              "    [theme=dark] .colab-df-convert:hover {\n",
              "      background-color: #434B5C;\n",
              "      box-shadow: 0px 1px 3px 1px rgba(0, 0, 0, 0.15);\n",
              "      filter: drop-shadow(0px 1px 2px rgba(0, 0, 0, 0.3));\n",
              "      fill: #FFFFFF;\n",
              "    }\n",
              "  </style>\n",
              "\n",
              "      <script>\n",
              "        const buttonEl =\n",
              "          document.querySelector('#df-da178d91-4c91-4983-b0bf-eafc5f4c2125 button.colab-df-convert');\n",
              "        buttonEl.style.display =\n",
              "          google.colab.kernel.accessAllowed ? 'block' : 'none';\n",
              "\n",
              "        async function convertToInteractive(key) {\n",
              "          const element = document.querySelector('#df-da178d91-4c91-4983-b0bf-eafc5f4c2125');\n",
              "          const dataTable =\n",
              "            await google.colab.kernel.invokeFunction('convertToInteractive',\n",
              "                                                     [key], {});\n",
              "          if (!dataTable) return;\n",
              "\n",
              "          const docLinkHtml = 'Like what you see? Visit the ' +\n",
              "            '<a target=\"_blank\" href=https://colab.research.google.com/notebooks/data_table.ipynb>data table notebook</a>'\n",
              "            + ' to learn more about interactive tables.';\n",
              "          element.innerHTML = '';\n",
              "          dataTable['output_type'] = 'display_data';\n",
              "          await google.colab.output.renderOutput(dataTable, element);\n",
              "          const docLink = document.createElement('div');\n",
              "          docLink.innerHTML = docLinkHtml;\n",
              "          element.appendChild(docLink);\n",
              "        }\n",
              "      </script>\n",
              "    </div>\n",
              "  </div>\n",
              "  "
            ]
          },
          "metadata": {},
          "execution_count": 1
        }
      ],
      "source": [
        "import pandas as pd\n",
        "import matplotlib.pyplot as plt\n",
        "import seaborn as sns\n",
        "df = pd.read_csv('https://raw.githubusercontent.com/nurfnick/Data_Viz/main/worldCupPlayer.csv')\n",
        "df"
      ]
    },
    {
      "cell_type": "markdown",
      "source": [
        "I don't have a favorite club so i am justing to pick the first club that is on the list and it is Ajax \n",
        "![link text](https://upload.wikimedia.org/wikipedia/sco/7/79/Ajax_Amsterdam.svg)"
      ],
      "metadata": {
        "id": "nZFH2R3nPfcx"
      }
    },
    {
      "cell_type": "markdown",
      "source": [
        "B: Show a table with all the data about your favorite club or nationality. Include some description about\n",
        "an interesting fact in the data."
      ],
      "metadata": {
        "id": "__6orSmtSyH5"
      }
    },
    {
      "cell_type": "code",
      "source": [
        "# filtering the rows with string \"Manchester United\"\n",
        "df1 = df[df['club'].str.contains('Ajax')]\n",
        "df1"
      ],
      "metadata": {
        "colab": {
          "base_uri": "https://localhost:8080/",
          "height": 143
        },
        "id": "kCkLrlbNQC3l",
        "outputId": "4879d60b-7b07-4c1e-b5d9-3ad1ee45e391"
      },
      "execution_count": 3,
      "outputs": [
        {
          "output_type": "execute_result",
          "data": {
            "text/plain": [
              "    Unnamed: 0  Rank          player  club  age    Apps  Mins  Goals  Assists  \\\n",
              "0            0     1    Hakim Ziyech  Ajax   25      34  3043      9       15   \n",
              "3            6    11    Lasse Schone  Ajax   32   27(3)  2350     10        3   \n",
              "10          22   160  Kasper Dolberg  Ajax   20  11(12)  1143      6        0   \n",
              "\n",
              "    Yel  Red  SpG    PS AerialsWon  MotM  Rating nationality  \n",
              "0     4    0  4.9  75.4        0.2     9    8.21     Morocco  \n",
              "3     6    0  1.9  87.0        1.9     2    7.45     Denmark  \n",
              "10    0    0    2  78.1        0.5     0    6.69     Denmark  "
            ],
            "text/html": [
              "\n",
              "  <div id=\"df-400f5c13-d9e8-4371-9105-9863b779ca6f\">\n",
              "    <div class=\"colab-df-container\">\n",
              "      <div>\n",
              "<style scoped>\n",
              "    .dataframe tbody tr th:only-of-type {\n",
              "        vertical-align: middle;\n",
              "    }\n",
              "\n",
              "    .dataframe tbody tr th {\n",
              "        vertical-align: top;\n",
              "    }\n",
              "\n",
              "    .dataframe thead th {\n",
              "        text-align: right;\n",
              "    }\n",
              "</style>\n",
              "<table border=\"1\" class=\"dataframe\">\n",
              "  <thead>\n",
              "    <tr style=\"text-align: right;\">\n",
              "      <th></th>\n",
              "      <th>Unnamed: 0</th>\n",
              "      <th>Rank</th>\n",
              "      <th>player</th>\n",
              "      <th>club</th>\n",
              "      <th>age</th>\n",
              "      <th>Apps</th>\n",
              "      <th>Mins</th>\n",
              "      <th>Goals</th>\n",
              "      <th>Assists</th>\n",
              "      <th>Yel</th>\n",
              "      <th>Red</th>\n",
              "      <th>SpG</th>\n",
              "      <th>PS</th>\n",
              "      <th>AerialsWon</th>\n",
              "      <th>MotM</th>\n",
              "      <th>Rating</th>\n",
              "      <th>nationality</th>\n",
              "    </tr>\n",
              "  </thead>\n",
              "  <tbody>\n",
              "    <tr>\n",
              "      <th>0</th>\n",
              "      <td>0</td>\n",
              "      <td>1</td>\n",
              "      <td>Hakim Ziyech</td>\n",
              "      <td>Ajax</td>\n",
              "      <td>25</td>\n",
              "      <td>34</td>\n",
              "      <td>3043</td>\n",
              "      <td>9</td>\n",
              "      <td>15</td>\n",
              "      <td>4</td>\n",
              "      <td>0</td>\n",
              "      <td>4.9</td>\n",
              "      <td>75.4</td>\n",
              "      <td>0.2</td>\n",
              "      <td>9</td>\n",
              "      <td>8.21</td>\n",
              "      <td>Morocco</td>\n",
              "    </tr>\n",
              "    <tr>\n",
              "      <th>3</th>\n",
              "      <td>6</td>\n",
              "      <td>11</td>\n",
              "      <td>Lasse Schone</td>\n",
              "      <td>Ajax</td>\n",
              "      <td>32</td>\n",
              "      <td>27(3)</td>\n",
              "      <td>2350</td>\n",
              "      <td>10</td>\n",
              "      <td>3</td>\n",
              "      <td>6</td>\n",
              "      <td>0</td>\n",
              "      <td>1.9</td>\n",
              "      <td>87.0</td>\n",
              "      <td>1.9</td>\n",
              "      <td>2</td>\n",
              "      <td>7.45</td>\n",
              "      <td>Denmark</td>\n",
              "    </tr>\n",
              "    <tr>\n",
              "      <th>10</th>\n",
              "      <td>22</td>\n",
              "      <td>160</td>\n",
              "      <td>Kasper Dolberg</td>\n",
              "      <td>Ajax</td>\n",
              "      <td>20</td>\n",
              "      <td>11(12)</td>\n",
              "      <td>1143</td>\n",
              "      <td>6</td>\n",
              "      <td>0</td>\n",
              "      <td>0</td>\n",
              "      <td>0</td>\n",
              "      <td>2</td>\n",
              "      <td>78.1</td>\n",
              "      <td>0.5</td>\n",
              "      <td>0</td>\n",
              "      <td>6.69</td>\n",
              "      <td>Denmark</td>\n",
              "    </tr>\n",
              "  </tbody>\n",
              "</table>\n",
              "</div>\n",
              "      <button class=\"colab-df-convert\" onclick=\"convertToInteractive('df-400f5c13-d9e8-4371-9105-9863b779ca6f')\"\n",
              "              title=\"Convert this dataframe to an interactive table.\"\n",
              "              style=\"display:none;\">\n",
              "        \n",
              "  <svg xmlns=\"http://www.w3.org/2000/svg\" height=\"24px\"viewBox=\"0 0 24 24\"\n",
              "       width=\"24px\">\n",
              "    <path d=\"M0 0h24v24H0V0z\" fill=\"none\"/>\n",
              "    <path d=\"M18.56 5.44l.94 2.06.94-2.06 2.06-.94-2.06-.94-.94-2.06-.94 2.06-2.06.94zm-11 1L8.5 8.5l.94-2.06 2.06-.94-2.06-.94L8.5 2.5l-.94 2.06-2.06.94zm10 10l.94 2.06.94-2.06 2.06-.94-2.06-.94-.94-2.06-.94 2.06-2.06.94z\"/><path d=\"M17.41 7.96l-1.37-1.37c-.4-.4-.92-.59-1.43-.59-.52 0-1.04.2-1.43.59L10.3 9.45l-7.72 7.72c-.78.78-.78 2.05 0 2.83L4 21.41c.39.39.9.59 1.41.59.51 0 1.02-.2 1.41-.59l7.78-7.78 2.81-2.81c.8-.78.8-2.07 0-2.86zM5.41 20L4 18.59l7.72-7.72 1.47 1.35L5.41 20z\"/>\n",
              "  </svg>\n",
              "      </button>\n",
              "      \n",
              "  <style>\n",
              "    .colab-df-container {\n",
              "      display:flex;\n",
              "      flex-wrap:wrap;\n",
              "      gap: 12px;\n",
              "    }\n",
              "\n",
              "    .colab-df-convert {\n",
              "      background-color: #E8F0FE;\n",
              "      border: none;\n",
              "      border-radius: 50%;\n",
              "      cursor: pointer;\n",
              "      display: none;\n",
              "      fill: #1967D2;\n",
              "      height: 32px;\n",
              "      padding: 0 0 0 0;\n",
              "      width: 32px;\n",
              "    }\n",
              "\n",
              "    .colab-df-convert:hover {\n",
              "      background-color: #E2EBFA;\n",
              "      box-shadow: 0px 1px 2px rgba(60, 64, 67, 0.3), 0px 1px 3px 1px rgba(60, 64, 67, 0.15);\n",
              "      fill: #174EA6;\n",
              "    }\n",
              "\n",
              "    [theme=dark] .colab-df-convert {\n",
              "      background-color: #3B4455;\n",
              "      fill: #D2E3FC;\n",
              "    }\n",
              "\n",
              "    [theme=dark] .colab-df-convert:hover {\n",
              "      background-color: #434B5C;\n",
              "      box-shadow: 0px 1px 3px 1px rgba(0, 0, 0, 0.15);\n",
              "      filter: drop-shadow(0px 1px 2px rgba(0, 0, 0, 0.3));\n",
              "      fill: #FFFFFF;\n",
              "    }\n",
              "  </style>\n",
              "\n",
              "      <script>\n",
              "        const buttonEl =\n",
              "          document.querySelector('#df-400f5c13-d9e8-4371-9105-9863b779ca6f button.colab-df-convert');\n",
              "        buttonEl.style.display =\n",
              "          google.colab.kernel.accessAllowed ? 'block' : 'none';\n",
              "\n",
              "        async function convertToInteractive(key) {\n",
              "          const element = document.querySelector('#df-400f5c13-d9e8-4371-9105-9863b779ca6f');\n",
              "          const dataTable =\n",
              "            await google.colab.kernel.invokeFunction('convertToInteractive',\n",
              "                                                     [key], {});\n",
              "          if (!dataTable) return;\n",
              "\n",
              "          const docLinkHtml = 'Like what you see? Visit the ' +\n",
              "            '<a target=\"_blank\" href=https://colab.research.google.com/notebooks/data_table.ipynb>data table notebook</a>'\n",
              "            + ' to learn more about interactive tables.';\n",
              "          element.innerHTML = '';\n",
              "          dataTable['output_type'] = 'display_data';\n",
              "          await google.colab.output.renderOutput(dataTable, element);\n",
              "          const docLink = document.createElement('div');\n",
              "          docLink.innerHTML = docLinkHtml;\n",
              "          element.appendChild(docLink);\n",
              "        }\n",
              "      </script>\n",
              "    </div>\n",
              "  </div>\n",
              "  "
            ]
          },
          "metadata": {},
          "execution_count": 3
        }
      ]
    },
    {
      "cell_type": "markdown",
      "source": [
        "C: Create a histogram of the ‘Goals’"
      ],
      "metadata": {
        "id": "0Yu7EwtCS5vh"
      }
    },
    {
      "cell_type": "code",
      "source": [
        "ax = df.Goals.hist(bins = 25)\n",
        "ax.set(title = \"Histogram of Goals\")\n",
        "ax.set_xlabel(\"Number of Goals\", labelpad=20, size=12)\n",
        "ax.set_ylabel(\"Number of Players\", labelpad=20, size=12)\n",
        "plt.show()"
      ],
      "metadata": {
        "colab": {
          "base_uri": "https://localhost:8080/",
          "height": 314
        },
        "id": "go5dyUAvQYtJ",
        "outputId": "c5fcda0b-f1f0-4970-e441-1f27ac243229"
      },
      "execution_count": 4,
      "outputs": [
        {
          "output_type": "display_data",
          "data": {
            "text/plain": [
              "<Figure size 432x288 with 1 Axes>"
            ],
            "image/png": "[encoded data removed]"
          },
          "metadata": {
            "needs_background": "light"
          }
        }
      ]
    },
    {
      "cell_type": "markdown",
      "source": [
        "D: Create a histogram of the ‘Goals’ and ‘Assists’ on the same axis."
      ],
      "metadata": {
        "id": "Qp3YMy5uS6Hi"
      }
    },
    {
      "cell_type": "code",
      "source": [
        "df[['Goals','Assists']].plot.hist(alpha = 0.5, bins = 20)"
      ],
      "metadata": {
        "colab": {
          "base_uri": "https://localhost:8080/",
          "height": 282
        },
        "id": "Cvtq44kNQby8",
        "outputId": "a7de8b59-e633-488a-d72d-d6f288eb43ff"
      },
      "execution_count": 5,
      "outputs": [
        {
          "output_type": "execute_result",
          "data": {
            "text/plain": [
              "<matplotlib.axes._subplots.AxesSubplot at 0x7fa6aeab06d0>"
            ]
          },
          "metadata": {},
          "execution_count": 5
        },
        {
          "output_type": "display_data",
          "data": {
            "text/plain": [
              "<Figure size 432x288 with 1 Axes>"
            ],
            "image/png": "[encoded data removed]"
          },
          "metadata": {
            "needs_background": "light"
          }
        }
      ]
    },
    {
      "cell_type": "markdown",
      "source": [
        "E: Create a barchart for most goals scored by nationality"
      ],
      "metadata": {
        "id": "wZj_NRrTS6i-"
      }
    },
    {
      "cell_type": "code",
      "source": [
        "ax = df.groupby('nationality').Goals.agg('mean').plot(kind = 'bar')\n",
        "ax.set(title = \"Most goals scored by nationality\")\n",
        "ax.set(ylabel = 'Number of goals')\n",
        "plt.show()"
      ],
      "metadata": {
        "colab": {
          "base_uri": "https://localhost:8080/",
          "height": 344
        },
        "id": "n_LciczkQeWB",
        "outputId": "b0d78f0b-8045-4343-9af9-c24eb95aa90b"
      },
      "execution_count": 6,
      "outputs": [
        {
          "output_type": "display_data",
          "data": {
            "text/plain": [
              "<Figure size 432x288 with 1 Axes>"
            ],
            "image/png": "[encoded data removed]"
          },
          "metadata": {
            "needs_background": "light"
          }
        }
      ]
    },
    {
      "cell_type": "markdown",
      "source": [
        "F: Create a boxplot of ‘Yel’ (yellow cards) by nationality"
      ],
      "metadata": {
        "id": "EGWlwBkGS7GT"
      }
    },
    {
      "cell_type": "code",
      "source": [
        "bp = df.boxplot(column=['Yel'], by = 'nationality', rot = 90)\n",
        "bp.plot()\n",
        "plt.xlabel('nationality')\n",
        "plt.ylabel('yellow cards')"
      ],
      "metadata": {
        "colab": {
          "base_uri": "https://localhost:8080/",
          "height": 421
        },
        "id": "YFqT0_KiQfgI",
        "outputId": "eb8fc97a-8858-46a0-cfb8-3e33a518a0cf"
      },
      "execution_count": 7,
      "outputs": [
        {
          "output_type": "stream",
          "name": "stderr",
          "text": [
            "/usr/local/lib/python3.7/dist-packages/matplotlib/cbook/__init__.py:1376: VisibleDeprecationWarning: Creating an ndarray from ragged nested sequences (which is a list-or-tuple of lists-or-tuples-or ndarrays with different lengths or shapes) is deprecated. If you meant to do this, you must specify 'dtype=object' when creating the ndarray.\n",
            "  X = np.atleast_1d(X.T if isinstance(X, np.ndarray) else np.asarray(X))\n"
          ]
        },
        {
          "output_type": "execute_result",
          "data": {
            "text/plain": [
              "Text(0, 0.5, 'yellow cards')"
            ]
          },
          "metadata": {},
          "execution_count": 7
        },
        {
          "output_type": "display_data",
          "data": {
            "text/plain": [
              "<Figure size 432x288 with 1 Axes>"
            ],
            "image/png": "[encoded data removed]"
          },
          "metadata": {
            "needs_background": "light"
          }
        }
      ]
    },
    {
      "cell_type": "markdown",
      "source": [
        "G: Create ‘Goals’ and ‘Assists’ as scatter. Signify your favorite club or nationality in some way on the scatterplot. You may need to add a new column to the dataset to do so"
      ],
      "metadata": {
        "id": "wfC975zYS7nC"
      }
    },
    {
      "cell_type": "code",
      "source": [
        "sns.relplot(data=df, x = 'Goals', y= 'Assists' )\n",
        "plt.title('A scatterplot of goals and assists')"
      ],
      "metadata": {
        "colab": {
          "base_uri": "https://localhost:8080/",
          "height": 402
        },
        "id": "ATckAwvYQmq3",
        "outputId": "d023e434-6c21-469a-86a3-f318c766d41e"
      },
      "execution_count": 8,
      "outputs": [
        {
          "output_type": "execute_result",
          "data": {
            "text/plain": [
              "Text(0.5, 1.0, 'A scatterplot of goals and assists')"
            ]
          },
          "metadata": {},
          "execution_count": 8
        },
        {
          "output_type": "display_data",
          "data": {
            "text/plain": [
              "<Figure size 360x360 with 1 Axes>"
            ],
            "image/png": "[encoded data removed]"
          },
          "metadata": {
            "needs_background": "light"
          }
        }
      ]
    },
    {
      "cell_type": "markdown",
      "source": [
        "The following is to help create a scatterplot that will have the goals and assist split in a way that you can know which ones are which."
      ],
      "metadata": {
        "id": "1p7y-EOGQyLF"
      }
    },
    {
      "cell_type": "code",
      "source": [
        "def AjaxGoals(row):\n",
        "  return row.Goals\n",
        "\n",
        "def AjaxAssists(row):\n",
        "  return row.Assists"
      ],
      "metadata": {
        "id": "y_wE9CSeQx0F"
      },
      "execution_count": 11,
      "outputs": []
    },
    {
      "cell_type": "code",
      "source": [
        "df2 = df[df['club'].str.contains('Ajax')]\n",
        "\n",
        "df['Ajax_goals'] = df2.apply(lambda row: AjaxGoals(row), axis=1)\n",
        "\n",
        "df['Ajax_assists'] = df2.apply(lambda row: AjaxAssists(row), axis=1)"
      ],
      "metadata": {
        "id": "_v1fwXkWQ1Mr"
      },
      "execution_count": 12,
      "outputs": []
    },
    {
      "cell_type": "code",
      "source": [
        "df['Ajax_goals'] = df['Ajax_goals'].fillna(0).astype(int)\n",
        "df['Ajax_goals'] = df['Ajax_goals'].astype('int')\n",
        "df['Ajax_assists'] = df['Ajax_assists'].fillna(0).astype(int)\n",
        "df['Ajax_assists'] = df['Ajax_assists'].astype('int')"
      ],
      "metadata": {
        "id": "vdxZXL-LRG36"
      },
      "execution_count": 13,
      "outputs": []
    },
    {
      "cell_type": "code",
      "source": [
        "df[df['club'].str.contains('Ajax')]"
      ],
      "metadata": {
        "colab": {
          "base_uri": "https://localhost:8080/",
          "height": 173
        },
        "id": "5vpY7WT9RRl2",
        "outputId": "fe6d07b0-113a-4617-934a-4ed912e92f46"
      },
      "execution_count": 14,
      "outputs": [
        {
          "output_type": "execute_result",
          "data": {
            "text/plain": [
              "    Unnamed: 0  Rank          player  club  age    Apps  Mins  Goals  Assists  \\\n",
              "0            0     1    Hakim Ziyech  Ajax   25      34  3043      9       15   \n",
              "3            6    11    Lasse Schone  Ajax   32   27(3)  2350     10        3   \n",
              "10          22   160  Kasper Dolberg  Ajax   20  11(12)  1143      6        0   \n",
              "\n",
              "    Yel  ...  SpG    PS  AerialsWon MotM  Rating  nationality MUFC_goals  \\\n",
              "0     4  ...  4.9  75.4         0.2    9    8.21      Morocco        NaN   \n",
              "3     6  ...  1.9  87.0         1.9    2    7.45      Denmark        NaN   \n",
              "10    0  ...    2  78.1         0.5    0    6.69      Denmark        NaN   \n",
              "\n",
              "    MUFC_assists  Ajax_goals  Ajax_assists  \n",
              "0            NaN           9            15  \n",
              "3            NaN          10             3  \n",
              "10           NaN           6             0  \n",
              "\n",
              "[3 rows x 21 columns]"
            ],
            "text/html": [
              "\n",
              "  <div id=\"df-da7b24bd-e8a3-45d0-8cfe-fdab2a681f01\">\n",
              "    <div class=\"colab-df-container\">\n",
              "      <div>\n",
              "<style scoped>\n",
              "    .dataframe tbody tr th:only-of-type {\n",
              "        vertical-align: middle;\n",
              "    }\n",
              "\n",
              "    .dataframe tbody tr th {\n",
              "        vertical-align: top;\n",
              "    }\n",
              "\n",
              "    .dataframe thead th {\n",
              "        text-align: right;\n",
              "    }\n",
              "</style>\n",
              "<table border=\"1\" class=\"dataframe\">\n",
              "  <thead>\n",
              "    <tr style=\"text-align: right;\">\n",
              "      <th></th>\n",
              "      <th>Unnamed: 0</th>\n",
              "      <th>Rank</th>\n",
              "      <th>player</th>\n",
              "      <th>club</th>\n",
              "      <th>age</th>\n",
              "      <th>Apps</th>\n",
              "      <th>Mins</th>\n",
              "      <th>Goals</th>\n",
              "      <th>Assists</th>\n",
              "      <th>Yel</th>\n",
              "      <th>...</th>\n",
              "      <th>SpG</th>\n",
              "      <th>PS</th>\n",
              "      <th>AerialsWon</th>\n",
              "      <th>MotM</th>\n",
              "      <th>Rating</th>\n",
              "      <th>nationality</th>\n",
              "      <th>MUFC_goals</th>\n",
              "      <th>MUFC_assists</th>\n",
              "      <th>Ajax_goals</th>\n",
              "      <th>Ajax_assists</th>\n",
              "    </tr>\n",
              "  </thead>\n",
              "  <tbody>\n",
              "    <tr>\n",
              "      <th>0</th>\n",
              "      <td>0</td>\n",
              "      <td>1</td>\n",
              "      <td>Hakim Ziyech</td>\n",
              "      <td>Ajax</td>\n",
              "      <td>25</td>\n",
              "      <td>34</td>\n",
              "      <td>3043</td>\n",
              "      <td>9</td>\n",
              "      <td>15</td>\n",
              "      <td>4</td>\n",
              "      <td>...</td>\n",
              "      <td>4.9</td>\n",
              "      <td>75.4</td>\n",
              "      <td>0.2</td>\n",
              "      <td>9</td>\n",
              "      <td>8.21</td>\n",
              "      <td>Morocco</td>\n",
              "      <td>NaN</td>\n",
              "      <td>NaN</td>\n",
              "      <td>9</td>\n",
              "      <td>15</td>\n",
              "    </tr>\n",
              "    <tr>\n",
              "      <th>3</th>\n",
              "      <td>6</td>\n",
              "      <td>11</td>\n",
              "      <td>Lasse Schone</td>\n",
              "      <td>Ajax</td>\n",
              "      <td>32</td>\n",
              "      <td>27(3)</td>\n",
              "      <td>2350</td>\n",
              "      <td>10</td>\n",
              "      <td>3</td>\n",
              "      <td>6</td>\n",
              "      <td>...</td>\n",
              "      <td>1.9</td>\n",
              "      <td>87.0</td>\n",
              "      <td>1.9</td>\n",
              "      <td>2</td>\n",
              "      <td>7.45</td>\n",
              "      <td>Denmark</td>\n",
              "      <td>NaN</td>\n",
              "      <td>NaN</td>\n",
              "      <td>10</td>\n",
              "      <td>3</td>\n",
              "    </tr>\n",
              "    <tr>\n",
              "      <th>10</th>\n",
              "      <td>22</td>\n",
              "      <td>160</td>\n",
              "      <td>Kasper Dolberg</td>\n",
              "      <td>Ajax</td>\n",
              "      <td>20</td>\n",
              "      <td>11(12)</td>\n",
              "      <td>1143</td>\n",
              "      <td>6</td>\n",
              "      <td>0</td>\n",
              "      <td>0</td>\n",
              "      <td>...</td>\n",
              "      <td>2</td>\n",
              "      <td>78.1</td>\n",
              "      <td>0.5</td>\n",
              "      <td>0</td>\n",
              "      <td>6.69</td>\n",
              "      <td>Denmark</td>\n",
              "      <td>NaN</td>\n",
              "      <td>NaN</td>\n",
              "      <td>6</td>\n",
              "      <td>0</td>\n",
              "    </tr>\n",
              "  </tbody>\n",
              "</table>\n",
              "<p>3 rows × 21 columns</p>\n",
              "</div>\n",
              "      <button class=\"colab-df-convert\" onclick=\"convertToInteractive('df-da7b24bd-e8a3-45d0-8cfe-fdab2a681f01')\"\n",
              "              title=\"Convert this dataframe to an interactive table.\"\n",
              "              style=\"display:none;\">\n",
              "        \n",
              "  <svg xmlns=\"http://www.w3.org/2000/svg\" height=\"24px\"viewBox=\"0 0 24 24\"\n",
              "       width=\"24px\">\n",
              "    <path d=\"M0 0h24v24H0V0z\" fill=\"none\"/>\n",
              "    <path d=\"M18.56 5.44l.94 2.06.94-2.06 2.06-.94-2.06-.94-.94-2.06-.94 2.06-2.06.94zm-11 1L8.5 8.5l.94-2.06 2.06-.94-2.06-.94L8.5 2.5l-.94 2.06-2.06.94zm10 10l.94 2.06.94-2.06 2.06-.94-2.06-.94-.94-2.06-.94 2.06-2.06.94z\"/><path d=\"M17.41 7.96l-1.37-1.37c-.4-.4-.92-.59-1.43-.59-.52 0-1.04.2-1.43.59L10.3 9.45l-7.72 7.72c-.78.78-.78 2.05 0 2.83L4 21.41c.39.39.9.59 1.41.59.51 0 1.02-.2 1.41-.59l7.78-7.78 2.81-2.81c.8-.78.8-2.07 0-2.86zM5.41 20L4 18.59l7.72-7.72 1.47 1.35L5.41 20z\"/>\n",
              "  </svg>\n",
              "      </button>\n",
              "      \n",
              "  <style>\n",
              "    .colab-df-container {\n",
              "      display:flex;\n",
              "      flex-wrap:wrap;\n",
              "      gap: 12px;\n",
              "    }\n",
              "\n",
              "    .colab-df-convert {\n",
              "      background-color: #E8F0FE;\n",
              "      border: none;\n",
              "      border-radius: 50%;\n",
              "      cursor: pointer;\n",
              "      display: none;\n",
              "      fill: #1967D2;\n",
              "      height: 32px;\n",
              "      padding: 0 0 0 0;\n",
              "      width: 32px;\n",
              "    }\n",
              "\n",
              "    .colab-df-convert:hover {\n",
              "      background-color: #E2EBFA;\n",
              "      box-shadow: 0px 1px 2px rgba(60, 64, 67, 0.3), 0px 1px 3px 1px rgba(60, 64, 67, 0.15);\n",
              "      fill: #174EA6;\n",
              "    }\n",
              "\n",
              "    [theme=dark] .colab-df-convert {\n",
              "      background-color: #3B4455;\n",
              "      fill: #D2E3FC;\n",
              "    }\n",
              "\n",
              "    [theme=dark] .colab-df-convert:hover {\n",
              "      background-color: #434B5C;\n",
              "      box-shadow: 0px 1px 3px 1px rgba(0, 0, 0, 0.15);\n",
              "      filter: drop-shadow(0px 1px 2px rgba(0, 0, 0, 0.3));\n",
              "      fill: #FFFFFF;\n",
              "    }\n",
              "  </style>\n",
              "\n",
              "      <script>\n",
              "        const buttonEl =\n",
              "          document.querySelector('#df-da7b24bd-e8a3-45d0-8cfe-fdab2a681f01 button.colab-df-convert');\n",
              "        buttonEl.style.display =\n",
              "          google.colab.kernel.accessAllowed ? 'block' : 'none';\n",
              "\n",
              "        async function convertToInteractive(key) {\n",
              "          const element = document.querySelector('#df-da7b24bd-e8a3-45d0-8cfe-fdab2a681f01');\n",
              "          const dataTable =\n",
              "            await google.colab.kernel.invokeFunction('convertToInteractive',\n",
              "                                                     [key], {});\n",
              "          if (!dataTable) return;\n",
              "\n",
              "          const docLinkHtml = 'Like what you see? Visit the ' +\n",
              "            '<a target=\"_blank\" href=https://colab.research.google.com/notebooks/data_table.ipynb>data table notebook</a>'\n",
              "            + ' to learn more about interactive tables.';\n",
              "          element.innerHTML = '';\n",
              "          dataTable['output_type'] = 'display_data';\n",
              "          await google.colab.output.renderOutput(dataTable, element);\n",
              "          const docLink = document.createElement('div');\n",
              "          docLink.innerHTML = docLinkHtml;\n",
              "          element.appendChild(docLink);\n",
              "        }\n",
              "      </script>\n",
              "    </div>\n",
              "  </div>\n",
              "  "
            ]
          },
          "metadata": {},
          "execution_count": 14
        }
      ]
    },
    {
      "cell_type": "markdown",
      "source": [
        "Taking the function that is created above and apply it to the scatter plot below"
      ],
      "metadata": {
        "id": "RdN779OPTwUv"
      }
    },
    {
      "cell_type": "code",
      "source": [
        "sns.relplot(data = df, x = 'Goals', y = 'Assists', color = 'red', style = 'Ajax_goals', size = 'Ajax_assists')\n",
        "\n",
        "plt.title('A scatterplot of goals and assist')"
      ],
      "metadata": {
        "colab": {
          "base_uri": "https://localhost:8080/",
          "height": 402
        },
        "id": "E6z-h0rPRr76",
        "outputId": "026b997d-63a4-460f-8b9c-125426a94307"
      },
      "execution_count": 17,
      "outputs": [
        {
          "output_type": "execute_result",
          "data": {
            "text/plain": [
              "Text(0.5, 1.0, 'A scatterplot of goals and assist')"
            ]
          },
          "metadata": {},
          "execution_count": 17
        },
        {
          "output_type": "display_data",
          "data": {
            "text/plain": [
              "<Figure size 436.625x360 with 1 Axes>"
            ],
            "image/png": "[encoded data removed]"
          },
          "metadata": {
            "needs_background": "light"
          }
        }
      ]
    },
    {
      "cell_type": "markdown",
      "source": [
        "H: Create stacked barplot of goals and assists of French National Team. (they won this tourney!) Be sure to comment on why it is appropriate to stack goals and assists.\n"
      ],
      "metadata": {
        "id": "rai2M9wiRrzU"
      }
    },
    {
      "cell_type": "code",
      "source": [
        "df3 = df[df['nationality'].str.contains('France')]"
      ],
      "metadata": {
        "id": "lFk1jb0uR7BL"
      },
      "execution_count": 18,
      "outputs": []
    },
    {
      "cell_type": "code",
      "source": [
        "ax = df3[['Goals', 'Assists']].plot(kind = 'bar', stacked = True,figsize=(15, 10) , title = 'Stacked barplot of goals and assists of French National Team')\n",
        "ax.set_xlabel('Goals')\n",
        "ax.set_ylabel('Assists')"
      ],
      "metadata": {
        "colab": {
          "base_uri": "https://localhost:8080/",
          "height": 648
        },
        "id": "jUQoVcRQR9QQ",
        "outputId": "a0e8d3a9-4665-4cdd-f0e3-78393ce9fbd4"
      },
      "execution_count": 21,
      "outputs": [
        {
          "output_type": "execute_result",
          "data": {
            "text/plain": [
              "Text(0, 0.5, 'Assists')"
            ]
          },
          "metadata": {},
          "execution_count": 21
        },
        {
          "output_type": "display_data",
          "data": {
            "text/plain": [
              "<Figure size 1080x720 with 1 Axes>"
            ],
            "image/png": "[encoded data removed]"
          },
          "metadata": {
            "needs_background": "light"
          }
        }
      ]
    },
    {
      "cell_type": "markdown",
      "source": [
        "I think that a Box plot stacked is good to have when you have multiple sets you don't have duplicate numbers."
      ],
      "metadata": {
        "id": "gn9a_F_ZT_vN"
      }
    },
    {
      "cell_type": "markdown",
      "source": [
        "I: Create a correlation heatmap of the entire dataset."
      ],
      "metadata": {
        "id": "bweekJ7vT_lQ"
      }
    },
    {
      "cell_type": "code",
      "source": [
        "sns.set(rc = {'figure.figsize':(15,10)})\n",
        "ax = sns.heatmap(df.corr(),vmin = -1, annot=False)\n",
        "ax.set(title = 'Heatmap of World Cup Dataset')\n",
        "plt.show()"
      ],
      "metadata": {
        "colab": {
          "base_uri": "https://localhost:8080/",
          "height": 674
        },
        "id": "Ec5bkDj0SLms",
        "outputId": "42b13b09-af5f-45b7-b89a-c69380230d2b"
      },
      "execution_count": 23,
      "outputs": [
        {
          "output_type": "display_data",
          "data": {
            "text/plain": [
              "<Figure size 1080x720 with 2 Axes>"
            ],
            "image/png": "[encoded data removed]"
          },
          "metadata": {}
        }
      ]
    },
    {
      "cell_type": "markdown",
      "source": [
        "2: Questions about the exam\n",
        "\n",
        "A: I say that i took about an hour and a half to do this exam\n",
        "\n",
        "B: The harder part for me was doing the function for the scatterplot to split the two but other than that it just plots that do most of the stuff for you, you just have to clarify what you want in the plot and what plot you want.\n",
        "\n",
        "C: I think I am good on everything that we covered up to this exam."
      ],
      "metadata": {
        "id": "eySub-pPVOPk"
      }
    }
  ]
}