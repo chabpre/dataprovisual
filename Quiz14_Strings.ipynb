{
  "nbformat": 4,
  "nbformat_minor": 0,
  "metadata": {
    "colab": {
      "name": "Quiz14_Strings.ipynb",
      "provenance": [],
      "authorship_tag": "ABX9TyObyIYXmEnkcocLXDDEaCiE",
      "include_colab_link": true
    },
    "kernelspec": {
      "name": "python3",
      "display_name": "Python 3"
    },
    "language_info": {
      "name": "python"
    }
  },
  "cells": [
    {
      "cell_type": "markdown",
      "metadata": {
        "id": "view-in-github",
        "colab_type": "text"
      },
      "source": [
        "<a href=\"https://colab.research.google.com/github/chabpre/dataprovisual/blob/main/Quiz14_Strings.ipynb\" target=\"_parent\"><img src=\"https://colab.research.google.com/assets/colab-badge.svg\" alt=\"Open In Colab\"/></a>"
      ]
    },
    {
      "cell_type": "code",
      "execution_count": 6,
      "metadata": {
        "colab": {
          "base_uri": "https://localhost:8080/",
          "height": 35
        },
        "id": "Jy3KC9Tv0oH8",
        "outputId": "b1a69655-1f1c-4658-bf75-b20af24bd822"
      },
      "outputs": [
        {
          "output_type": "execute_result",
          "data": {
            "application/vnd.google.colaboratory.intrinsic+json": {
              "type": "string"
            },
            "text/plain": [
              "'Happy Birthday to you, Happy Birthday to you, Happy Birthda, Dear Charles Presley Happy Birthday to you'"
            ]
          },
          "metadata": {},
          "execution_count": 6
        }
      ],
      "source": [
        "a = 'Happy Birthday to you'\n",
        "b = 'Dear Charles Presley '\n",
        "\n",
        "a + \", \"+ a + \", \" + a [:-8] + \", \" + b + a"
      ]
    }
  ]
}