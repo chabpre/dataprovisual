{
  "nbformat": 4,
  "nbformat_minor": 0,
  "metadata": {
    "colab": {
      "name": "Quiz_21_GraphicalExcellence.ipynb",
      "provenance": [],
      "authorship_tag": "ABX9TyOD2AYyAMODCVKhUswxMkMy",
      "include_colab_link": true
    },
    "kernelspec": {
      "name": "python3",
      "display_name": "Python 3"
    },
    "language_info": {
      "name": "python"
    }
  },
  "cells": [
    {
      "cell_type": "markdown",
      "metadata": {
        "id": "view-in-github",
        "colab_type": "text"
      },
      "source": [
        "<a href=\"https://colab.research.google.com/github/chabpre/dataprovisual/blob/main/Quiz_21_GraphicalExcellence.ipynb\" target=\"_parent\"><img src=\"https://colab.research.google.com/assets/colab-badge.svg\" alt=\"Open In Colab\"/></a>"
      ]
    },
    {
      "cell_type": "markdown",
      "source": [
        "1. Examine John Snow's map of cholera outbreak in 1854 for 'graphical excellence'. Discuss the highlights of the graphic.\n",
        "###* It shows the areas that were the most exposed were and where the most casualties were. The map is a little hard to read \n",
        "2. Find a modern reference and dicuss the excellence displayed. Include a link and image in your report.\n",
        "###* I have given a map that uses a heat type to show the areas with the most that had been exposed. Still hard to find one that is easy to read because its been almost 170 years since the first map was made."
      ],
      "metadata": {
        "id": "5Gu9b82Wkns-"
      }
    },
    {
      "cell_type": "markdown",
      "source": [
        "![john Snow](https://upload.wikimedia.org/wikipedia/commons/2/27/Snow-cholera-map-1.jpg)\n"
      ],
      "metadata": {
        "id": "qeQsUMQql56k"
      }
    },
    {
      "cell_type": "markdown",
      "source": [
        "![Modern](https://blogs.sas.com/content/sgf/files/2019/04/compare2.png)"
      ],
      "metadata": {
        "id": "gWqNkjWvl6Mu"
      }
    }
  ]
}