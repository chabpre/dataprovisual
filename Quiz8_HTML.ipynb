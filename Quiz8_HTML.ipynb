{
  "nbformat": 4,
  "nbformat_minor": 0,
  "metadata": {
    "colab": {
      "name": "Quiz8_HTML.ipynb",
      "provenance": [],
      "authorship_tag": "ABX9TyNnjhLOg7VgOnXEHioPIRLl",
      "include_colab_link": true
    },
    "kernelspec": {
      "name": "python3",
      "display_name": "Python 3"
    },
    "language_info": {
      "name": "python"
    }
  },
  "cells": [
    {
      "cell_type": "markdown",
      "metadata": {
        "id": "view-in-github",
        "colab_type": "text"
      },
      "source": [
        "<a href=\"https://colab.research.google.com/github/chabpre/dataprovisual/blob/main/Quiz8_HTML.ipynb\" target=\"_parent\"><img src=\"https://colab.research.google.com/assets/colab-badge.svg\" alt=\"Open In Colab\"/></a>"
      ]
    },
    {
      "cell_type": "code",
      "execution_count": 1,
      "metadata": {
        "id": "XsQ6BTbr2RIl"
      },
      "outputs": [],
      "source": [
        "import requests\n",
        "import pandas as pa\n",
        "from bs4 import BeautifulSoup"
      ]
    },
    {
      "cell_type": "markdown",
      "source": [
        "I have selected the show chuck with Zachary levi it is by far one of my favorites"
      ],
      "metadata": {
        "id": "tRKYg-kc3RFJ"
      }
    },
    {
      "cell_type": "code",
      "source": [
        "r = requests.get('https://en.wikipedia.org/wiki/Chuck_(TV_series)')\n",
        "html_contents = r.text\n",
        "html_soup = BeautifulSoup(html_contents,\"lxml\")\n",
        "#html_soup"
      ],
      "metadata": {
        "id": "AgCnQb332_0L"
      },
      "execution_count": 2,
      "outputs": []
    },
    {
      "cell_type": "markdown",
      "source": [
        "The title"
      ],
      "metadata": {
        "id": "4xKXOZLi3PhV"
      }
    },
    {
      "cell_type": "code",
      "source": [
        "html_soup.title"
      ],
      "metadata": {
        "colab": {
          "base_uri": "https://localhost:8080/"
        },
        "id": "RiOKtD003IFu",
        "outputId": "4cc4d9a1-ef14-4627-efa3-9d803f383837"
      },
      "execution_count": 3,
      "outputs": [
        {
          "output_type": "execute_result",
          "data": {
            "text/plain": [
              "<title>Chuck (TV series) - Wikipedia</title>"
            ]
          },
          "metadata": {},
          "execution_count": 3
        }
      ]
    },
    {
      "cell_type": "markdown",
      "source": [
        "All the links"
      ],
      "metadata": {
        "id": "z5Y6BvlR3Na9"
      }
    },
    {
      "cell_type": "code",
      "source": [
        "links = html_soup.table.find_all('a')\n",
        "listOfURLS = []\n",
        "\n",
        "for link in links:\n",
        "  listOfURLS.append('https://en.wikipedia.org' + link['href'])\n",
        "\n",
        "listOfURLS"
      ],
      "metadata": {
        "colab": {
          "base_uri": "https://localhost:8080/"
        },
        "id": "xpQ1IvzN3LRC",
        "outputId": "40f8354e-272c-46ac-e56f-830aa0317adf"
      },
      "execution_count": 4,
      "outputs": [
        {
          "output_type": "execute_result",
          "data": {
            "text/plain": [
              "['https://en.wikipedia.org/wiki/File:Chuck_2007_logo_2.svg',\n",
              " 'https://en.wikipedia.org/wiki/Action_film',\n",
              " 'https://en.wikipedia.org/wiki/Comedy',\n",
              " 'https://en.wikipedia.org/wiki/Romance_film',\n",
              " 'https://en.wikipedia.org/wiki/Drama',\n",
              " 'https://en.wikipedia.org/wiki/Josh_Schwartz',\n",
              " 'https://en.wikipedia.org/wiki/Zachary_Levi',\n",
              " 'https://en.wikipedia.org/wiki/Yvonne_Strahovski',\n",
              " 'https://en.wikipedia.org/wiki/Joshua_Gomez',\n",
              " 'https://en.wikipedia.org/wiki/Sarah_Lancaster',\n",
              " 'https://en.wikipedia.org/wiki/Adam_Baldwin',\n",
              " 'https://en.wikipedia.org/wiki/Ryan_McPartlin',\n",
              " 'https://en.wikipedia.org/wiki/Mark_Christopher_Lawrence',\n",
              " 'https://en.wikipedia.org/wiki/Scott_Krinsky',\n",
              " 'https://en.wikipedia.org/wiki/Vik_Sahay',\n",
              " 'https://en.wikipedia.org/wiki/Julia_Ling',\n",
              " 'https://en.wikipedia.org/wiki/Bonita_Friedericy',\n",
              " 'https://en.wikipedia.org/wiki/Short_Skirt/Long_Jacket',\n",
              " 'https://en.wikipedia.org/wiki/Cake_(band)',\n",
              " 'https://en.wikipedia.org/wiki/Tim_Jones_(film_composer)',\n",
              " 'https://en.wikipedia.org/wiki/List_of_Chuck_episodes',\n",
              " 'https://en.wikipedia.org/wiki/Josh_Schwartz',\n",
              " 'https://en.wikipedia.org/wiki/Robert_Duncan_McNeill',\n",
              " 'https://en.wikipedia.org/wiki/McG',\n",
              " 'https://en.wikipedia.org/wiki/Burbank,_California',\n",
              " 'https://en.wikipedia.org/wiki/Fake_Empire_Productions',\n",
              " 'https://en.wikipedia.org/wiki/Wonderland_Sound_and_Vision',\n",
              " 'https://en.wikipedia.org/wiki/Warner_Bros._Television',\n",
              " 'https://en.wikipedia.org/wiki/Warner_Bros._Television_Distribution',\n",
              " 'https://en.wikipedia.org/wiki/NBC',\n",
              " 'https://en.wikipedia.org/wiki/NTSC',\n",
              " 'https://en.wikipedia.org/wiki/HDTV',\n",
              " 'https://en.wikipedia.org/wiki/1080i',\n",
              " 'https://en.wikipedia.orghttp://www.nbc.com/Chuck/']"
            ]
          },
          "metadata": {},
          "execution_count": 4
        }
      ]
    }
  ]
}