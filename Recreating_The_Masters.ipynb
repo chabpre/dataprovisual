{
  "nbformat": 4,
  "nbformat_minor": 0,
  "metadata": {
    "colab": {
      "name": "Recreating_The_Masters.ipynb",
      "provenance": [],
      "authorship_tag": "ABX9TyOT6YisgedCcXV46+yl7Lwq",
      "include_colab_link": true
    },
    "kernelspec": {
      "name": "python3",
      "display_name": "Python 3"
    },
    "language_info": {
      "name": "python"
    }
  },
  "cells": [
    {
      "cell_type": "markdown",
      "metadata": {
        "id": "view-in-github",
        "colab_type": "text"
      },
      "source": [
        "<a href=\"https://colab.research.google.com/github/chabpre/dataprovisual/blob/main/Recreating_The_Masters.ipynb\" target=\"_parent\"><img src=\"https://colab.research.google.com/assets/colab-badge.svg\" alt=\"Open In Colab\"/></a>"
      ]
    },
    {
      "cell_type": "markdown",
      "source": [
        "#Recreating the Masters Proposal \n",
        "Charles Presley\n",
        "\n",
        "ECU ID: 236587\n",
        "\n",
        "Class: Data Process Visualization \n",
        "\n",
        "The Data set below is from the website https://www.mekkographics.com/top-streaming-services/"
      ],
      "metadata": {
        "id": "u_fUw9zmeTjt"
      }
    },
    {
      "cell_type": "markdown",
      "source": [
        "For my Recreating the Masters I am going to be using the top streaming apps during 2021. The reason I am choosing this is its something that everyone used during the COVID pandemic and thought that i would show where they are now that it is starting to slow down. \n",
        "\n",
        "Some things that I will have a hardship on is that the chart is from May 11, 2021 so half the month is missing. I would have liked to find a good chart that showed where it was before 2019 but i could not find a good one that i thought fit."
      ],
      "metadata": {
        "id": "eJdvAiAoaQ6S"
      }
    },
    {
      "cell_type": "markdown",
      "source": [
        "![chart](https://cdn.mekkographics.com/wp-content/uploads/2021/05/Horizontal-Bar-Top-Streaming-Services-chart.png)"
      ],
      "metadata": {
        "id": "2Xp6QwnLeL3q"
      }
    },
    {
      "cell_type": "markdown",
      "source": [
        "Before the start of covid in late 2019, streaming services that most people used were netflix, spotify, and Prime video. After everybody was forced in to a lockdown state companies had to find ways to make sure that movies and tv shows got to the people at home, so new and old streaming services started to rise. Hulu, HBO max, Disney plus, etc. In the end those that people used during covid are the ones that are still being used to this day. I was unable to find a chart that has the streaming services by uses like the one above."
      ],
      "metadata": {
        "id": "9u9R8KGBRi9l"
      }
    }
  ]
}